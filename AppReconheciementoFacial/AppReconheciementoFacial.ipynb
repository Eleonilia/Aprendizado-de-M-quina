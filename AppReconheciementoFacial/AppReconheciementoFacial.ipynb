{
 "cells": [
  {
   "cell_type": "markdown",
   "metadata": {},
   "source": [
    "## Tutorial: Verificação facial com uma Rede Neurais Siamesa\n",
    "Nicholas Renotte\n",
    "\n",
    "https://www.youtube.com/watch?v=LKispFFQ5GU\n",
    "\n",
    "\n",
    "### Atividade: Aprendizado de Máquina\n",
    "\n",
    "A abordagem usada no tutorial de reconhecimento facil foi baseada em aprendizado supervisionada com **Redes Neurais Siamesas**, seguida pela reutilização dos recursos dessa rede para o aprendizado **one-shot** , \n",
    "•\tcom isso não há necessidade de qualquer retreinamento quando novas classes venham surgir.\n",
    "#### Redes Neurais Siamesas\n",
    "é uma classe de arquiteturas de rede neural que **contém duas ou mais sub-redes idêntico**\n",
    "* **'idêntico'** - significa que eles têm a mesma configuração com os mesmos parâmetros e pesos\n",
    "* A atualização de parâmetros é espelhada em ambas as sub-redes. \n",
    "#### **one-shot**\n",
    "* O aprendizado único é um algoritmo de classificação que avalia a semelhança e a diferença entre duas imagens. \n",
    "    * Permite efetuar classificação a partir de poucas ou mesmo uma única imagem de treinamento\n",
    "    \n",
    "#### Redes Neurais Siamesas"
   ]
  },
  {
   "cell_type": "markdown",
   "metadata": {},
   "source": [
    "![Rede Neural Siamesa](Redes_Neurais_Siamesas.png)"
   ]
  },
  {
   "cell_type": "markdown",
   "metadata": {},
   "source": [
    "## 1 - configurações"
   ]
  },
  {
   "cell_type": "markdown",
   "metadata": {},
   "source": [
    "### 1.1 Intalação de dependencias "
   ]
  },
  {
   "cell_type": "code",
   "execution_count": 1,
   "metadata": {},
   "outputs": [],
   "source": [
    "#!pip install tensorflow==2.4.1 tensorflow-gpu==2.4.1 opencv-python matplotlib"
   ]
  },
  {
   "cell_type": "markdown",
   "metadata": {},
   "source": [
    "### 1.2 Importe dependencias"
   ]
  },
  {
   "cell_type": "code",
   "execution_count": 200,
   "metadata": {},
   "outputs": [],
   "source": [
    "# Importar dependências padrão\n",
    "import cv2\n",
    "import os\n",
    "import random\n",
    "import numpy as np\n",
    "from matplotlib import pyplot as plt"
   ]
  },
  {
   "cell_type": "code",
   "execution_count": 201,
   "metadata": {},
   "outputs": [],
   "source": [
    "# Importar dependências do tensorflow - API funcional\n",
    "from tensorflow.keras.models import Model\n",
    "from tensorflow.keras.layers import Layer, Conv2D, Dense, MaxPooling2D, Input, Flatten\n",
    "import tensorflow as tf"
   ]
  },
  {
   "cell_type": "markdown",
   "metadata": {},
   "source": [
    "### 1.3 Definir o crescimento da GPU\n",
    "\n",
    "Para evitar erros de alocação de memoria, foi definido o crescimento do consumo de memória do CPU\n"
   ]
  },
  {
   "cell_type": "code",
   "execution_count": 202,
   "metadata": {},
   "outputs": [],
   "source": [
    "# OOM definindo o crescimento do consumo de memória da GPU\n",
    "gpus = tf.config.experimental.list_physical_devices('GPU')\n",
    "for gpu in gpus: \n",
    "    tf.config.experimental.set_memory_growth(gpu, True)"
   ]
  },
  {
   "cell_type": "markdown",
   "metadata": {},
   "source": [
    "### 1.4 Criar Pastas\n",
    "\n",
    "Nesta seção é criada as pastas que o algoritmo utiliza:\n",
    "\n",
    "* **Âncora** - imagem que define quem nós somos.\n",
    "* **Positivo** - Nessa pasta, está imagens vai confirmar se a imagens da pasta âncora corresponde com as imagens positivas\n",
    "* **Negativo** - Nessa pasta, temos as imagens negativos que são as imagens que não se assemelham com o arquivo da pasta âncora\n"
   ]
  },
  {
   "cell_type": "code",
   "execution_count": 203,
   "metadata": {},
   "outputs": [],
   "source": [
    "# configuração dos Caminho\n",
    "POS_PATH = os.path.join('data', 'positive')\n",
    "NEG_PATH = os.path.join('data', 'negative')\n",
    "ANC_PATH = os.path.join('data', 'anchor')"
   ]
  },
  {
   "cell_type": "code",
   "execution_count": 204,
   "metadata": {},
   "outputs": [
    {
     "name": "stdout",
     "output_type": "stream",
     "text": [
      "Ja existe uma pasta ja exitem!\n"
     ]
    }
   ],
   "source": [
    "import os.path\n",
    "\n",
    "# Vericando se o diretorio ja existe\n",
    "if os.path.isdir(POS_PATH) and os.path.isdir(POS_PATH) and os.path.isdir(POS_PATH):\n",
    "      print ('Ja existe uma pasta ja exitem!')\n",
    "else:\n",
    "    # aqui criamos a pasta caso nao exista\n",
    "    os.makedirs(POS_PATH)\n",
    "    os.makedirs(NEG_PATH)\n",
    "    os.makedirs(ANC_PATH)\n",
    "    print ('Pasta criada com sucesso!')"
   ]
  },
  {
   "cell_type": "markdown",
   "metadata": {},
   "source": [
    "## 2. Colete pontos positivos e âncoras\n",
    "\n",
    "### 2.1 Descompactar rostos rotulados no conjunto de dados selvagem\n",
    "\n",
    "##### Rostos rotulados da natureza\n",
    "\n",
    "**Labeled Faces in the Wild** é uma referência pública para verificação facial, também conhecida como correspondência de pares. \n",
    "As imagens contidas nesse link http://vis-www.cs.umass.edu/lfw/ foram baixadas e descompactadas para depois serem salvas no repositório data/negative"
   ]
  },
  {
   "cell_type": "code",
   "execution_count": 205,
   "metadata": {},
   "outputs": [],
   "source": [
    "# Descompacte as faces rotuladas Tar GZ no conjunto de dados selvagens\n",
    "!tar -xf lfw.tgz"
   ]
  },
  {
   "cell_type": "code",
   "execution_count": 14,
   "metadata": {},
   "outputs": [],
   "source": [
    "# Move LFW Images to the following repository data/negative\n",
    "for directory in os.listdir('lfw'):\n",
    "    for file in os.listdir(os.path.join('lfw', directory)):\n",
    "        EX_PATH = os.path.join('lfw', directory, file)\n",
    "        NEW_PATH = os.path.join(NEG_PATH, file)\n",
    "        os.replace(EX_PATH, NEW_PATH)"
   ]
  },
  {
   "cell_type": "markdown",
   "metadata": {},
   "source": [
    "## 2.2 Coletar Classes Positivas e Âncoras\n",
    "\n",
    "As imagens **positivas** e **âncoras** foram coletadas nessa seção atraves da webcam\n",
    "Coletando as imagens âncoras - Preciona a letras \"a\"\n",
    "Coletando as imagens positivas - Preciona a letras \"p\""
   ]
  },
  {
   "cell_type": "code",
   "execution_count": 206,
   "metadata": {},
   "outputs": [],
   "source": [
    "# Import uuid library to generate unique image names\n",
    "import uuid"
   ]
  },
  {
   "cell_type": "code",
   "execution_count": 207,
   "metadata": {},
   "outputs": [
    {
     "data": {
      "text/plain": [
       "'data\\\\anchor\\\\4eab8471-71a4-11ed-abea-00d76d057e71.jpg'"
      ]
     },
     "execution_count": 207,
     "metadata": {},
     "output_type": "execute_result"
    }
   ],
   "source": [
    "os.path.join(ANC_PATH, '{}.jpg'.format(uuid.uuid1()))"
   ]
  },
  {
   "cell_type": "code",
   "execution_count": 233,
   "metadata": {},
   "outputs": [],
   "source": [
    "# Estabelecendo conexão com webcam\n",
    "cap = cv2.VideoCapture(0)\n",
    "while cap.isOpened(): \n",
    "    # Percorre cada quadro da nossa webcam\n",
    "    # cap.read:Ler a captura dos quadros\n",
    "    ret, frame = cap.read()\n",
    "   \n",
    "    # Reduz o qaadro 250x250px, para facilitar o processamento\n",
    "    frame = frame[120:120+250,200:200+250, :]\n",
    "    \n",
    "    # Coletando as imagens âncoras - Preciona a letras \"a\"\n",
    "    if cv2.waitKey(1) & 0XFF == ord('a'):\n",
    "        # Crie nome unico para o nosso arquivo  \n",
    "        imgname = os.path.join(ANC_PATH, '{}.jpg'.format(uuid.uuid1()))\n",
    "        # Escrevendo a imagem em âncor\n",
    "        cv2.imwrite(imgname, frame)\n",
    "    \n",
    "    # Coletando as imagens positivas - Preciona a letras \"p\"\n",
    "    if cv2.waitKey(1) & 0XFF == ord('p'):\n",
    "        # Crie nome unico para o nosso arquivo  \n",
    "        imgname = os.path.join(POS_PATH, '{}.jpg'.format(uuid.uuid1()))\n",
    "       # Escrevendo a imagem em positivo\n",
    "        cv2.imwrite(imgname, frame)\n",
    "    \n",
    "    # Mostrar imagem de volta à tela\n",
    "    cv2.imshow('Image Collection', frame)\n",
    "    \n",
    "    # Breaking gracefully\n",
    "    if cv2.waitKey(1) & 0XFF == ord('q'):\n",
    "        break\n",
    "        \n",
    "# Libera a webcam\n",
    "cap.release()\n",
    "# Feche o quadro de exibição de imagem\n",
    "cv2.destroyAllWindows()"
   ]
  },
  {
   "cell_type": "code",
   "execution_count": 234,
   "metadata": {},
   "outputs": [
    {
     "data": {
      "text/plain": [
       "<matplotlib.image.AxesImage at 0x220bf139fd0>"
      ]
     },
     "execution_count": 234,
     "metadata": {},
     "output_type": "execute_result"
    },
    {
     "data": {
      "image/png": "[encoded data removed]",
      "text/plain": [
       "<Figure size 432x288 with 1 Axes>"
      ]
     },
     "metadata": {
      "needs_background": "light"
     },
     "output_type": "display_data"
    }
   ],
   "source": [
    "plt.imshow(frame)"
   ]
  },
  {
   "cell_type": "markdown",
   "metadata": {},
   "source": [
    "### 2.3 NOVO - Aumento de dados\n",
    "\n",
    "O aumento de dados na análise de dados são técnicas usadas para aumentar a quantidade de dados adicionando cópias ligeiramente modificadas de dados já existentes ou dados sintéticos recém-criados a partir de dados existentes"
   ]
  },
  {
   "cell_type": "code",
   "execution_count": 107,
   "metadata": {},
   "outputs": [],
   "source": [
    "def data_aug(img):\n",
    "    data = []\n",
    "    for i in range(9):\n",
    "        img = tf.image.stateless_random_brightness(img, max_delta=0.02, seed=(1,2))\n",
    "        img = tf.image.stateless_random_contrast(img, lower=0.6, upper=1, seed=(1,3))\n",
    "        # img = tf.image.stateless_random_crop(img, size=(20,20,3), seed=(1,2))\n",
    "        img = tf.image.stateless_random_flip_left_right(img, seed=(np.random.randint(100),np.random.randint(100)))\n",
    "        img = tf.image.stateless_random_jpeg_quality(img, min_jpeg_quality=90, max_jpeg_quality=100, seed=(np.random.randint(100),np.random.randint(100)))\n",
    "        img = tf.image.stateless_random_saturation(img, lower=0.9,upper=1, seed=(np.random.randint(100),np.random.randint(100)))\n",
    "            \n",
    "        data.append(img)\n",
    "    \n",
    "    return data"
   ]
  },
  {
   "cell_type": "code",
   "execution_count": 108,
   "metadata": {},
   "outputs": [],
   "source": [
    "import os\n",
    "import uuid"
   ]
  },
  {
   "cell_type": "code",
   "execution_count": 109,
   "metadata": {},
   "outputs": [],
   "source": [
    "img_path = os.path.join(ANC_PATH, 'b02660de-6ed9-11ed-a069-00d76d057e71.jpg')\n",
    "img = cv2.imread(img_path)\n",
    "augmented_images = data_aug(img)\n",
    "\n",
    "for image in augmented_images:\n",
    "    cv2.imwrite(os.path.join(ANC_PATH, '{}.jpg'.format(uuid.uuid1())), image.numpy())"
   ]
  },
  {
   "cell_type": "code",
   "execution_count": null,
   "metadata": {
    "tags": []
   },
   "outputs": [],
   "source": [
    "for file_name in os.listdir(os.path.join(POS_PATH)):\n",
    "    img_path = os.path.join(POS_PATH, file_name)\n",
    "    img = cv2.imread(img_path)\n",
    "    augmented_images = data_aug(img) \n",
    "    \n",
    "    for image in augmented_images:\n",
    "        cv2.imwrite(os.path.join(POS_PATH, '{}.jpg'.format(uuid.uuid1())), image.numpy())"
   ]
  },
  {
   "cell_type": "markdown",
   "metadata": {},
   "source": [
    "## 3. Carregar e pré-processar imagens"
   ]
  },
  {
   "cell_type": "markdown",
   "metadata": {},
   "source": [
    "### 3.1 Obter diretorio das imagens"
   ]
  },
  {
   "cell_type": "code",
   "execution_count": 112,
   "metadata": {},
   "outputs": [],
   "source": [
    "    \"\"\"\n",
    "    :variavel anchor: tensorflow.python.data.ops.dataset_ops.TakeDataset\n",
    "    :variavel positive: tensorflow.python.data.ops.dataset_ops.TakeDataset\n",
    "    :variavel negative: tensorflow.python.data.ops.dataset_ops.TakeDataset\n",
    "    \n",
    "    o metodo tf.data.Dataset.list_files cria um conjunto ou um pipeline para as imagens diferentes dentro de um determinado diretório\n",
    "    \"\"\"\n",
    "anchor = tf.data.Dataset.list_files(ANC_PATH+'\\*.jpg').take(3000)\n",
    "positive = tf.data.Dataset.list_files(POS_PATH+'\\*.jpg').take(3000)\n",
    "negative = tf.data.Dataset.list_files(NEG_PATH+'\\*.jpg').take(3000)"
   ]
  },
  {
   "cell_type": "code",
   "execution_count": 113,
   "metadata": {},
   "outputs": [],
   "source": [
    "dir_test = anchor.as_numpy_iterator()"
   ]
  },
  {
   "cell_type": "code",
   "execution_count": 114,
   "metadata": {},
   "outputs": [
    {
     "name": "stdout",
     "output_type": "stream",
     "text": [
      "b'data\\\\anchor\\\\aa48884e-6ed8-11ed-bd79-00d76d057e71.jpg'\n"
     ]
    }
   ],
   "source": [
    "# Pega o caminho da imagens dentro do diretório\n",
    "print(dir_test.next())"
   ]
  },
  {
   "cell_type": "markdown",
   "metadata": {},
   "source": [
    "### 3.2 Pré-processamento - Dimensionar e redimensionar\n",
    "\n",
    "A função preprocess converte os valosres da imagens de 0 a 255 para 0 e 1\n",
    "* Essa função tem como retorno as imagens com o valor converti entre 0 e 1"
   ]
  },
  {
   "cell_type": "code",
   "execution_count": 115,
   "metadata": {},
   "outputs": [],
   "source": [
    "# Converter todos os valores da imagens de 0 a 255 para 0 e 1\n",
    "def preprocess(file_path):\n",
    "    \n",
    "    \"\"\"\n",
    "    Returns retornar as imagens em escala entre 0 e 1.\n",
    "    :variavel img: tensorflow.python.framework.ops.EagerTensor\n",
    "    :param file_path: String\n",
    "    \n",
    "    \"\"\"\n",
    "    \n",
    "    # Lendo a imagem do caminho do arquivo\n",
    "    byte_img = tf.io.read_file(file_path)\n",
    "    # carrega na imagem\n",
    "    img = tf.io.decode_jpeg(byte_img)\n",
    "    \n",
    "    # Etapas de pré-processamento - redimensionando a imagem para 100x100x3\n",
    "    img = tf.image.resize(img, (100,100))\n",
    "    # Escala da imagem para ficar entre 0 e 1\n",
    "    img = img / 255.0\n",
    "\n",
    "    # Return image com valores convertidos entre 0 e 1\n",
    "    return img"
   ]
  },
  {
   "cell_type": "code",
   "execution_count": 116,
   "metadata": {
    "scrolled": true,
    "tags": []
   },
   "outputs": [],
   "source": [
    "img = preprocess('data\\\\anchor\\\\b02660de-6ed9-11ed-a069-00d76d057e71.jpg')"
   ]
  },
  {
   "cell_type": "code",
   "execution_count": 117,
   "metadata": {},
   "outputs": [
    {
     "data": {
      "text/plain": [
       "tensorflow.python.framework.ops.EagerTensor"
      ]
     },
     "execution_count": 117,
     "metadata": {},
     "output_type": "execute_result"
    }
   ],
   "source": [
    "type(img)"
   ]
  },
  {
   "cell_type": "code",
   "execution_count": 118,
   "metadata": {},
   "outputs": [
    {
     "data": {
      "text/plain": [
       "1.0"
      ]
     },
     "execution_count": 118,
     "metadata": {},
     "output_type": "execute_result"
    }
   ],
   "source": [
    "img.numpy().max() "
   ]
  },
  {
   "cell_type": "markdown",
   "metadata": {},
   "source": [
    "### 3.3 Criar conjunto de dados rotulados\n",
    "\n",
    "##### Dados de entrada para rede neural siamesa com perda trigêmea\n",
    "\n",
    "O aprendizado foi feito com a perda de trigêmea.\n",
    "* Para a perda por trigêmeos temos:\n",
    "    * Um vetor de linha base **(imagens ancôra)** é comparado com:\n",
    "        * com um vetor positivo **(imagem verdadeira)**\n",
    "        * e com um vetor negativo **(imagem falsa)**\n",
    "       \n",
    "O vetor negativo forçará o aprendizado na rede, enquanto o vetor positivo atuará como um regularizador. "
   ]
  },
  {
   "cell_type": "markdown",
   "metadata": {},
   "source": [
    "##### Dados de entrada para rede neural siamesa\n",
    "* (anchor, positive) => 1,1,1,1,1\n",
    "* (anchor, negative) => 0,0,0,0,0\n"
   ]
  },
  {
   "cell_type": "code",
   "execution_count": 119,
   "metadata": {},
   "outputs": [],
   "source": [
    "# Dados de entrada para rede neural siamesa\n",
    "# imagens positivas mais nossa ancora = 1\n",
    "positives = tf.data.Dataset.zip((anchor, positive, tf.data.Dataset.from_tensor_slices(tf.ones(len(anchor)))))\n",
    "# imagens negativas mais nossa ancora = 0\n",
    "negatives = tf.data.Dataset.zip((anchor, negative, tf.data.Dataset.from_tensor_slices(tf.zeros(len(anchor)))))\n",
    "# junta os positivos e negativos da amostra\n",
    "data = positives.concatenate(negatives)"
   ]
  },
  {
   "cell_type": "code",
   "execution_count": 120,
   "metadata": {},
   "outputs": [],
   "source": [
    "samples = data.as_numpy_iterator()"
   ]
  },
  {
   "cell_type": "code",
   "execution_count": 121,
   "metadata": {},
   "outputs": [],
   "source": [
    "exampple = samples.next()"
   ]
  },
  {
   "cell_type": "code",
   "execution_count": 122,
   "metadata": {
    "tags": []
   },
   "outputs": [
    {
     "data": {
      "text/plain": [
       "(b'data\\\\anchor\\\\58aed36f-6ed9-11ed-89cd-00d76d057e71.jpg',\n",
       " b'data\\\\positive\\\\18209d22-712d-11ed-af9b-00d76d057e71.jpg',\n",
       " 1.0)"
      ]
     },
     "execution_count": 122,
     "metadata": {},
     "output_type": "execute_result"
    }
   ],
   "source": [
    "exampple"
   ]
  },
  {
   "cell_type": "markdown",
   "metadata": {},
   "source": [
    "### 3.4 Construir partição de treinamento e teste"
   ]
  },
  {
   "cell_type": "code",
   "execution_count": 123,
   "metadata": {},
   "outputs": [],
   "source": [
    "# Pré processamento da função gemeas\n",
    "def preprocess_twin(input_img, validation_img, label):\n",
    "    # Executa o pré-processamento em reprocess(input_img) com imagens de entrada\n",
    "    #  e no pré-processamento de imagem validação\n",
    "    return(preprocess(input_img), preprocess(validation_img), label)"
   ]
  },
  {
   "cell_type": "code",
   "execution_count": 124,
   "metadata": {},
   "outputs": [],
   "source": [
    "res = preprocess_twin(*exampple)"
   ]
  },
  {
   "cell_type": "code",
   "execution_count": 125,
   "metadata": {
    "scrolled": true
   },
   "outputs": [
    {
     "data": {
      "text/plain": [
       "<matplotlib.image.AxesImage at 0x220c078c460>"
      ]
     },
     "execution_count": 125,
     "metadata": {},
     "output_type": "execute_result"
    },
    {
     "data": {
      "image/png": "[encoded data removed]",
      "text/plain": [
       "<Figure size 432x288 with 1 Axes>"
      ]
     },
     "metadata": {
      "needs_background": "light"
     },
     "output_type": "display_data"
    }
   ],
   "source": [
    "plt.imshow(res[0])"
   ]
  },
  {
   "cell_type": "code",
   "execution_count": 126,
   "metadata": {},
   "outputs": [
    {
     "data": {
      "text/plain": [
       "1.0"
      ]
     },
     "execution_count": 126,
     "metadata": {},
     "output_type": "execute_result"
    }
   ],
   "source": [
    "# Etiqueta 1, temos uma foto positiva - Etiquetada corretamente\n",
    "res[2]"
   ]
  },
  {
   "cell_type": "code",
   "execution_count": 127,
   "metadata": {},
   "outputs": [],
   "source": [
    "# Cria pipeline do carregamento dos dados\n",
    "data = data.map(preprocess_twin)\n",
    "data = data.cache()\n",
    "data = data.shuffle(buffer_size=10000)"
   ]
  },
  {
   "cell_type": "code",
   "execution_count": 128,
   "metadata": {},
   "outputs": [],
   "source": [
    "# Separando dados para treino\n",
    "train_data = data.take(round(len(data)*.7))\n",
    "train_data = train_data.batch(16)\n",
    "train_data = train_data.prefetch(8)"
   ]
  },
  {
   "cell_type": "code",
   "execution_count": 129,
   "metadata": {},
   "outputs": [],
   "source": [
    "# Separando dados para o teste\n",
    "test_data = data.skip(round(len(data)*.7))\n",
    "test_data = test_data.take(round(len(data)*.3))\n",
    "test_data = test_data.batch(16)\n",
    "test_data = test_data.prefetch(8)"
   ]
  },
  {
   "cell_type": "markdown",
   "metadata": {},
   "source": [
    "## 4. Engenharia de modelos"
   ]
  },
  {
   "cell_type": "markdown",
   "metadata": {},
   "source": [
    "### 4.1 Criar Camada Incorporada\n",
    "\n",
    "#### Arquitetura convolucional selecionada para tarefa de verificação"
   ]
  },
  {
   "cell_type": "markdown",
   "metadata": {},
   "source": [
    "![Melhor arquitetura convolucional selecionada para tarefa de verificação](seamese.png)"
   ]
  },
  {
   "cell_type": "markdown",
   "metadata": {},
   "source": [
    "##### O gêmeo siamês não é representado, mas se une imediatamente após a camada totalmente conectada de 4096 unidades, onde a distância entre os vetores L1 é calculada"
   ]
  },
  {
   "cell_type": "markdown",
   "metadata": {},
   "source": [
    "* **Input**: entrada do algoritmo (imagens);\n",
    "* **Conv2D**: utilizada para criar as camadas da rede neural convolucional e usa o **relu** como ativação;\n",
    "* **Dense** : camada conectada;\n",
    "* **MaxPooling2D** : o pooling máximo reduz a dimensionalidade das imagens reduzindo o número de pixels na saída da camada convolucional anterior;\n",
    "* **Flatten**: \"achata\" as informações da camada anterior em uma única dimensão, permitindo assim, enviar os dados da rede convolucionoal para a camada densa."
   ]
  },
  {
   "cell_type": "code",
   "execution_count": 130,
   "metadata": {},
   "outputs": [
    {
     "data": {
      "text/plain": [
       "<KerasTensor: shape=(None, 100, 100, 3) dtype=float32 (created by layer 'input_image')>"
      ]
     },
     "execution_count": 130,
     "metadata": {},
     "output_type": "execute_result"
    }
   ],
   "source": [
    "inp = Input(shape=(100,100,3), name='input_image')\n",
    "inp"
   ]
  },
  {
   "cell_type": "code",
   "execution_count": 131,
   "metadata": {},
   "outputs": [
    {
     "data": {
      "text/plain": [
       "<KerasTensor: shape=(None, 91, 91, 64) dtype=float32 (created by layer 'conv2d_8')>"
      ]
     },
     "execution_count": 131,
     "metadata": {},
     "output_type": "execute_result"
    }
   ],
   "source": [
    "# Aqui temos 64 canais (filtros) com 91 pixels por 91 pixels - Convolution + Rule e usando o max-poolling \n",
    "c1 = Conv2D(64, (10,10), activation='relu')(inp)\n",
    "c1"
   ]
  },
  {
   "cell_type": "code",
   "execution_count": 132,
   "metadata": {},
   "outputs": [],
   "source": [
    "# CAmada de agrupamento máximo reunindo 2D \n",
    "m1 = MaxPooling2D(64, (2,2), padding='same')(c1)"
   ]
  },
  {
   "cell_type": "code",
   "execution_count": 133,
   "metadata": {},
   "outputs": [
    {
     "data": {
      "text/plain": [
       "<KerasTensor: shape=(None, 40, 40, 128) dtype=float32 (created by layer 'conv2d_9')>"
      ]
     },
     "execution_count": 133,
     "metadata": {},
     "output_type": "execute_result"
    }
   ],
   "source": [
    "c2 = Conv2D(128, (7,7), activation='relu')(m1)\n",
    "m2 = MaxPooling2D(64, (2,2), padding='same')(c2)\n",
    "c2"
   ]
  },
  {
   "cell_type": "code",
   "execution_count": 134,
   "metadata": {},
   "outputs": [
    {
     "data": {
      "text/plain": [
       "<KerasTensor: shape=(None, 17, 17, 128) dtype=float32 (created by layer 'conv2d_10')>"
      ]
     },
     "execution_count": 134,
     "metadata": {},
     "output_type": "execute_result"
    }
   ],
   "source": [
    "c3 = Conv2D(128, (4,4), activation='relu')(m2)\n",
    "m3 = MaxPooling2D(64, (2,2), padding='same')(c3)\n",
    "c3"
   ]
  },
  {
   "cell_type": "code",
   "execution_count": 135,
   "metadata": {},
   "outputs": [
    {
     "data": {
      "text/plain": [
       "<KerasTensor: shape=(None, 6, 6, 256) dtype=float32 (created by layer 'conv2d_11')>"
      ]
     },
     "execution_count": 135,
     "metadata": {},
     "output_type": "execute_result"
    }
   ],
   "source": [
    "c4 = Conv2D(256, (4,4), activation='relu')(m3)\n",
    "f1 = Flatten()(c4)\n",
    "d1 = Dense(4096, activation='sigmoid')(f1) # Vetor de recurosos 4096 -  distância siamesa\n",
    "c4"
   ]
  },
  {
   "cell_type": "code",
   "execution_count": 136,
   "metadata": {},
   "outputs": [
    {
     "data": {
      "text/plain": [
       "<KerasTensor: shape=(None, 4096) dtype=float32 (created by layer 'dense_4')>"
      ]
     },
     "execution_count": 136,
     "metadata": {},
     "output_type": "execute_result"
    }
   ],
   "source": [
    "d1"
   ]
  },
  {
   "cell_type": "code",
   "execution_count": 137,
   "metadata": {},
   "outputs": [],
   "source": [
    "mod = Model(inputs=[inp], outputs=[d1], name='embedding')"
   ]
  },
  {
   "cell_type": "code",
   "execution_count": 138,
   "metadata": {},
   "outputs": [
    {
     "name": "stdout",
     "output_type": "stream",
     "text": [
      "Model: \"embedding\"\n",
      "_________________________________________________________________\n",
      "Layer (type)                 Output Shape              Param #   \n",
      "=================================================================\n",
      "input_image (InputLayer)     [(None, 100, 100, 3)]     0         \n",
      "_________________________________________________________________\n",
      "conv2d_8 (Conv2D)            (None, 91, 91, 64)        19264     \n",
      "_________________________________________________________________\n",
      "max_pooling2d_6 (MaxPooling2 (None, 46, 46, 64)        0         \n",
      "_________________________________________________________________\n",
      "conv2d_9 (Conv2D)            (None, 40, 40, 128)       401536    \n",
      "_________________________________________________________________\n",
      "max_pooling2d_7 (MaxPooling2 (None, 20, 20, 128)       0         \n",
      "_________________________________________________________________\n",
      "conv2d_10 (Conv2D)           (None, 17, 17, 128)       262272    \n",
      "_________________________________________________________________\n",
      "max_pooling2d_8 (MaxPooling2 (None, 9, 9, 128)         0         \n",
      "_________________________________________________________________\n",
      "conv2d_11 (Conv2D)           (None, 6, 6, 256)         524544    \n",
      "_________________________________________________________________\n",
      "flatten_2 (Flatten)          (None, 9216)              0         \n",
      "_________________________________________________________________\n",
      "dense_4 (Dense)              (None, 4096)              37752832  \n",
      "=================================================================\n",
      "Total params: 38,960,448\n",
      "Trainable params: 38,960,448\n",
      "Non-trainable params: 0\n",
      "_________________________________________________________________\n"
     ]
    }
   ],
   "source": [
    "mod.summary()"
   ]
  },
  {
   "cell_type": "code",
   "execution_count": 139,
   "metadata": {},
   "outputs": [],
   "source": [
    "def make_embedding(): \n",
    "    # Camada de entrada com 100 pixel por 100 pixels e tres canais\n",
    "    inp = Input(shape=(100,100,3), name='input_image')\n",
    "    \n",
    "    # Primeiro bloco\n",
    "    c1 = Conv2D(64, (10,10), activation='relu')(inp)\n",
    "    m1 = MaxPooling2D(64, (2,2), padding='same')(c1)\n",
    "    \n",
    "    # Segundo bloco\n",
    "    c2 = Conv2D(128, (7,7), activation='relu')(m1)\n",
    "    m2 = MaxPooling2D(64, (2,2), padding='same')(c2)\n",
    "    \n",
    "    # Terceiro bloco \n",
    "    c3 = Conv2D(128, (4,4), activation='relu')(m2)\n",
    "    m3 = MaxPooling2D(64, (2,2), padding='same')(c3)\n",
    "    \n",
    "    # Bloco de incorporação final\n",
    "    # Temos 256 filtros\n",
    "    c4 = Conv2D(256, (4,4), activation='relu')(m3)\n",
    "    f1 = Flatten()(c4)\n",
    "    \n",
    "    # Camada densa (saída achatada com uma dimensão)\n",
    "    d1 = Dense(4096, activation='sigmoid')(f1)\n",
    "    \n",
    "    \"\"\"\n",
    "    Returns retornar a camada de entrada (inputs), a saida é a camada achatada com 1 dimensão e uma string\n",
    "\n",
    "    \"\"\"\n",
    "    return Model(inputs=[inp], outputs=[d1], name='embedding')"
   ]
  },
  {
   "cell_type": "code",
   "execution_count": 140,
   "metadata": {},
   "outputs": [],
   "source": [
    "embedding = make_embedding()"
   ]
  },
  {
   "cell_type": "code",
   "execution_count": 141,
   "metadata": {},
   "outputs": [
    {
     "name": "stdout",
     "output_type": "stream",
     "text": [
      "Model: \"embedding\"\n",
      "_________________________________________________________________\n",
      "Layer (type)                 Output Shape              Param #   \n",
      "=================================================================\n",
      "input_image (InputLayer)     [(None, 100, 100, 3)]     0         \n",
      "_________________________________________________________________\n",
      "conv2d_12 (Conv2D)           (None, 91, 91, 64)        19264     \n",
      "_________________________________________________________________\n",
      "max_pooling2d_9 (MaxPooling2 (None, 46, 46, 64)        0         \n",
      "_________________________________________________________________\n",
      "conv2d_13 (Conv2D)           (None, 40, 40, 128)       401536    \n",
      "_________________________________________________________________\n",
      "max_pooling2d_10 (MaxPooling (None, 20, 20, 128)       0         \n",
      "_________________________________________________________________\n",
      "conv2d_14 (Conv2D)           (None, 17, 17, 128)       262272    \n",
      "_________________________________________________________________\n",
      "max_pooling2d_11 (MaxPooling (None, 9, 9, 128)         0         \n",
      "_________________________________________________________________\n",
      "conv2d_15 (Conv2D)           (None, 6, 6, 256)         524544    \n",
      "_________________________________________________________________\n",
      "flatten_3 (Flatten)          (None, 9216)              0         \n",
      "_________________________________________________________________\n",
      "dense_5 (Dense)              (None, 4096)              37752832  \n",
      "=================================================================\n",
      "Total params: 38,960,448\n",
      "Trainable params: 38,960,448\n",
      "Non-trainable params: 0\n",
      "_________________________________________________________________\n"
     ]
    }
   ],
   "source": [
    "# O modelo criado\n",
    "embedding.summary()"
   ]
  },
  {
   "cell_type": "markdown",
   "metadata": {},
   "source": [
    "### 4.2 Criar Camada de Distância"
   ]
  },
  {
   "cell_type": "code",
   "execution_count": 142,
   "metadata": {},
   "outputs": [],
   "source": [
    "# Classe à Distância Siamês L1\n",
    "class L1Dist(Layer):\n",
    "    \n",
    "    # Método init - herança\n",
    "    def __init__(self, **kwargs):\n",
    "        super().__init__()\n",
    "\n",
    "    # cálculo de similaridade\n",
    "    def call(self, input_embedding, validation_embedding):        \n",
    "        \"\"\"\n",
    "        Returns - retornar o valor absoluto do calculo da similaridade \n",
    "        (input_embedding - validation_embedding), ou seja, vai retornar a distância.\n",
    "\n",
    "        \"\"\"\n",
    "        return tf.math.abs(input_embedding - validation_embedding)"
   ]
  },
  {
   "cell_type": "code",
   "execution_count": 143,
   "metadata": {},
   "outputs": [],
   "source": [
    "l1 = L1Dist()"
   ]
  },
  {
   "cell_type": "code",
   "execution_count": 144,
   "metadata": {},
   "outputs": [
    {
     "data": {
      "text/plain": [
       "<__main__.L1Dist at 0x220c07b7040>"
      ]
     },
     "execution_count": 144,
     "metadata": {},
     "output_type": "execute_result"
    }
   ],
   "source": [
    "l1"
   ]
  },
  {
   "cell_type": "markdown",
   "metadata": {},
   "source": [
    "### 4.3 Fazer Modelo Siamês"
   ]
  },
  {
   "cell_type": "code",
   "execution_count": 145,
   "metadata": {},
   "outputs": [],
   "source": [
    "input_image = Input(name='input_img', shape=(100,100,3))\n",
    "validation_image = Input(name='validation_img', shape=(100,100,3))"
   ]
  },
  {
   "cell_type": "code",
   "execution_count": 146,
   "metadata": {},
   "outputs": [],
   "source": [
    "inp_embedding = embedding(input_image)\n",
    "val_embedding = embedding(validation_image)"
   ]
  },
  {
   "cell_type": "code",
   "execution_count": 147,
   "metadata": {},
   "outputs": [],
   "source": [
    "siamese_layer = L1Dist()"
   ]
  },
  {
   "cell_type": "code",
   "execution_count": 148,
   "metadata": {},
   "outputs": [],
   "source": [
    "distances = siamese_layer(inp_embedding, val_embedding)"
   ]
  },
  {
   "cell_type": "code",
   "execution_count": 149,
   "metadata": {},
   "outputs": [],
   "source": [
    "classifier = Dense(1, activation='sigmoid')(distances)"
   ]
  },
  {
   "cell_type": "code",
   "execution_count": 150,
   "metadata": {},
   "outputs": [
    {
     "data": {
      "text/plain": [
       "<KerasTensor: shape=(None, 1) dtype=float32 (created by layer 'dense_6')>"
      ]
     },
     "execution_count": 150,
     "metadata": {},
     "output_type": "execute_result"
    }
   ],
   "source": [
    "classifier"
   ]
  },
  {
   "cell_type": "code",
   "execution_count": 151,
   "metadata": {},
   "outputs": [],
   "source": [
    "siamese_network = Model(inputs=[input_image, validation_image], outputs=classifier, name='SiameseNetwork')"
   ]
  },
  {
   "cell_type": "code",
   "execution_count": 152,
   "metadata": {},
   "outputs": [
    {
     "name": "stdout",
     "output_type": "stream",
     "text": [
      "Model: \"SiameseNetwork\"\n",
      "__________________________________________________________________________________________________\n",
      "Layer (type)                    Output Shape         Param #     Connected to                     \n",
      "==================================================================================================\n",
      "input_img (InputLayer)          [(None, 100, 100, 3) 0                                            \n",
      "__________________________________________________________________________________________________\n",
      "validation_img (InputLayer)     [(None, 100, 100, 3) 0                                            \n",
      "__________________________________________________________________________________________________\n",
      "embedding (Functional)          (None, 4096)         38960448    input_img[0][0]                  \n",
      "                                                                 validation_img[0][0]             \n",
      "__________________________________________________________________________________________________\n",
      "l1_dist_5 (L1Dist)              (None, 4096)         0           embedding[0][0]                  \n",
      "                                                                 embedding[1][0]                  \n",
      "__________________________________________________________________________________________________\n",
      "dense_6 (Dense)                 (None, 1)            4097        l1_dist_5[0][0]                  \n",
      "==================================================================================================\n",
      "Total params: 38,964,545\n",
      "Trainable params: 38,964,545\n",
      "Non-trainable params: 0\n",
      "__________________________________________________________________________________________________\n"
     ]
    }
   ],
   "source": [
    "siamese_network.summary()"
   ]
  },
  {
   "cell_type": "code",
   "execution_count": 153,
   "metadata": {},
   "outputs": [],
   "source": [
    "def make_siamese_model(): \n",
    "    \n",
    "    # Ancorar entrada de imagem na rede\n",
    "    input_image = Input(name='input_img', shape=(100,100,3))\n",
    "    \n",
    "    # Imagem de validação na rede \n",
    "    validation_image = Input(name='validation_img', shape=(100,100,3))\n",
    "    \n",
    "    # Combinar componentes de distância siameses\n",
    "    siamese_layer = L1Dist()\n",
    "    siamese_layer._name = 'distance'\n",
    "    # distância entre as iamgens de entrada e as imagens de validação - \n",
    "    # verifica a semelhança entre as imagens para ver se é a mesma pessoa\n",
    "    distances = siamese_layer(embedding(input_image), embedding(validation_image)) \n",
    "    \n",
    "    # Camada de classificação\n",
    "    classifier = Dense(1, activation='sigmoid')(distances)\n",
    "    \n",
    "    \"\"\"\n",
    "    Returns - retornar o modelo com inputs que é um vetor com input_image e a validation_image, a outputs que\n",
    "    é a classificação se é a mesma pessoa ou não e, por fim, o nome da rede siamesa\n",
    "    \n",
    "    \"\"\"\n",
    "    \n",
    "    return Model(inputs=[input_image, validation_image], outputs=classifier, name='SiameseNetwork')"
   ]
  },
  {
   "cell_type": "code",
   "execution_count": 154,
   "metadata": {},
   "outputs": [],
   "source": [
    "siamese_model = make_siamese_model()"
   ]
  },
  {
   "cell_type": "code",
   "execution_count": 155,
   "metadata": {
    "tags": []
   },
   "outputs": [
    {
     "name": "stdout",
     "output_type": "stream",
     "text": [
      "Model: \"SiameseNetwork\"\n",
      "__________________________________________________________________________________________________\n",
      "Layer (type)                    Output Shape         Param #     Connected to                     \n",
      "==================================================================================================\n",
      "input_img (InputLayer)          [(None, 100, 100, 3) 0                                            \n",
      "__________________________________________________________________________________________________\n",
      "validation_img (InputLayer)     [(None, 100, 100, 3) 0                                            \n",
      "__________________________________________________________________________________________________\n",
      "embedding (Functional)          (None, 4096)         38960448    input_img[0][0]                  \n",
      "                                                                 validation_img[0][0]             \n",
      "__________________________________________________________________________________________________\n",
      "distance (L1Dist)               (None, 4096)         0           embedding[2][0]                  \n",
      "                                                                 embedding[3][0]                  \n",
      "__________________________________________________________________________________________________\n",
      "dense_7 (Dense)                 (None, 1)            4097        distance[0][0]                   \n",
      "==================================================================================================\n",
      "Total params: 38,964,545\n",
      "Trainable params: 38,964,545\n",
      "Non-trainable params: 0\n",
      "__________________________________________________________________________________________________\n"
     ]
    }
   ],
   "source": [
    "# Modelo embedding\n",
    "siamese_model.summary()"
   ]
  },
  {
   "cell_type": "markdown",
   "metadata": {},
   "source": [
    "## 5. Treinamento"
   ]
  },
  {
   "cell_type": "markdown",
   "metadata": {},
   "source": [
    "### 5.1 Perda de Configuração e Otimizador"
   ]
  },
  {
   "cell_type": "code",
   "execution_count": 156,
   "metadata": {},
   "outputs": [],
   "source": [
    "# Calcula a perda de entropia cruzada entre rótulos verdadeiros e rótulos previstos.\n",
    "binary_cross_loss = tf.losses.BinaryCrossentropy()"
   ]
  },
  {
   "cell_type": "markdown",
   "metadata": {},
   "source": [
    "A otimização de Adam é um método de descida de gradiente estocástico baseado na estimativa adaptativa de momentos de primeira e segunda ordem."
   ]
  },
  {
   "cell_type": "code",
   "execution_count": 157,
   "metadata": {},
   "outputs": [],
   "source": [
    "opt = tf.keras.optimizers.Adam(1e-4) # 0.0001"
   ]
  },
  {
   "cell_type": "markdown",
   "metadata": {},
   "source": [
    "### 5.2 Estabelecer Pontos de Verificação"
   ]
  },
  {
   "cell_type": "code",
   "execution_count": 158,
   "metadata": {},
   "outputs": [],
   "source": [
    "checkpoint_dir = './training_checkpoints'\n",
    "checkpoint_prefix = os.path.join(checkpoint_dir, 'ckpt')\n",
    "checkpoint = tf.train.Checkpoint(opt=opt, siamese_model=siamese_model)"
   ]
  },
  {
   "cell_type": "markdown",
   "metadata": {},
   "source": [
    "### 5.3 Construir função de etapa de treinamento"
   ]
  },
  {
   "cell_type": "code",
   "execution_count": 159,
   "metadata": {},
   "outputs": [],
   "source": [
    "test_batch = train_data.as_numpy_iterator()"
   ]
  },
  {
   "cell_type": "code",
   "execution_count": 160,
   "metadata": {},
   "outputs": [],
   "source": [
    "batch_1 = test_batch.next()"
   ]
  },
  {
   "cell_type": "code",
   "execution_count": 161,
   "metadata": {},
   "outputs": [],
   "source": [
    "X = batch_1[:2]"
   ]
  },
  {
   "cell_type": "code",
   "execution_count": 162,
   "metadata": {},
   "outputs": [],
   "source": [
    "y = batch_1[2]"
   ]
  },
  {
   "cell_type": "code",
   "execution_count": 163,
   "metadata": {},
   "outputs": [
    {
     "data": {
      "text/plain": [
       "(2, 16, 100, 100, 3)"
      ]
     },
     "execution_count": 163,
     "metadata": {},
     "output_type": "execute_result"
    }
   ],
   "source": [
    "np.array(X).shape"
   ]
  },
  {
   "cell_type": "code",
   "execution_count": 164,
   "metadata": {},
   "outputs": [
    {
     "data": {
      "text/plain": [
       "array([0., 0., 1., 1., 0., 0., 0., 0., 0., 1., 0., 0., 1., 1., 1., 1.],\n",
       "      dtype=float32)"
      ]
     },
     "execution_count": 164,
     "metadata": {},
     "output_type": "execute_result"
    }
   ],
   "source": [
    "y"
   ]
  },
  {
   "cell_type": "code",
   "execution_count": 165,
   "metadata": {
    "jupyter": {
     "outputs_hidden": true
    },
    "tags": []
   },
   "outputs": [],
   "source": [
    "tf.losses.BinaryCrossentropy??"
   ]
  },
  {
   "cell_type": "code",
   "execution_count": 166,
   "metadata": {
    "tags": []
   },
   "outputs": [],
   "source": [
    "@tf.function\n",
    "def train_step(batch):\n",
    "    \n",
    "    # Registre todas as operações\n",
    "    with tf.GradientTape() as tape:     \n",
    "        # Obtenha âncora e imagem positiva/negativa\n",
    "        X = batch[:2]\n",
    "        # obtendo etiqueta\n",
    "        y = batch[2]\n",
    "        \n",
    "        # Forward pass\n",
    "        yhat = siamese_model(X, training=True)\n",
    "        # Calcular perda\n",
    "        loss = binary_cross_loss(y, yhat)\n",
    "    print(loss)\n",
    "        \n",
    "    # Calcaula o gradiente\n",
    "    grad = tape.gradient(loss, siamese_model.trainable_variables)\n",
    "    \n",
    "    # Calcular pesos atualizados e aplicar ao modelo siamês\n",
    "    opt.apply_gradients(zip(grad, siamese_model.trainable_variables))\n",
    "        \n",
    "    # Return o calculo dA PERDA\n",
    "    return loss"
   ]
  },
  {
   "cell_type": "markdown",
   "metadata": {},
   "source": [
    "### 5.4 Construir Loop de Treinamento"
   ]
  },
  {
   "cell_type": "code",
   "execution_count": 167,
   "metadata": {},
   "outputs": [],
   "source": [
    "# Import metric calculations\n",
    "from tensorflow.keras.metrics import Precision, Recall"
   ]
  },
  {
   "cell_type": "code",
   "execution_count": 168,
   "metadata": {},
   "outputs": [],
   "source": [
    "def train(data, EPOCHS):\n",
    "    # Loop through epochs\n",
    "    for epoch in range(1, EPOCHS+1):\n",
    "        print('\\n Epoch {}/{}'.format(epoch, EPOCHS))\n",
    "        progbar = tf.keras.utils.Progbar(len(data))\n",
    "        \n",
    "        # Creating a metric object \n",
    "        r = Recall()\n",
    "        p = Precision()\n",
    "        \n",
    "        # Loop through each batch\n",
    "        for idx, batch in enumerate(data):\n",
    "            # Run train step here\n",
    "            loss = train_step(batch)\n",
    "            yhat = siamese_model.predict(batch[:2])\n",
    "            r.update_state(batch[2], yhat)\n",
    "            p.update_state(batch[2], yhat) \n",
    "            progbar.update(idx+1)\n",
    "        print(loss.numpy(), r.result().numpy(), p.result().numpy())\n",
    "        \n",
    "        # Save checkpoints\n",
    "        if epoch % 10 == 0: \n",
    "            checkpoint.save(file_prefix=checkpoint_prefix)"
   ]
  },
  {
   "cell_type": "markdown",
   "metadata": {},
   "source": [
    "### 5.5 Treinar o modelo"
   ]
  },
  {
   "cell_type": "code",
   "execution_count": 169,
   "metadata": {},
   "outputs": [],
   "source": [
    "EPOCHS = 50"
   ]
  },
  {
   "cell_type": "code",
   "execution_count": 170,
   "metadata": {
    "scrolled": true,
    "tags": []
   },
   "outputs": [
    {
     "name": "stdout",
     "output_type": "stream",
     "text": [
      "\n",
      " Epoch 1/50\n",
      "Tensor(\"binary_crossentropy/weighted_loss/value:0\", shape=(), dtype=float32)\n",
      "Tensor(\"binary_crossentropy/weighted_loss/value:0\", shape=(), dtype=float32)\n",
      "12/13 [==========================>...] - ETA: 17sTensor(\"binary_crossentropy/weighted_loss/value:0\", shape=(), dtype=float32)\n",
      "13/13 [==============================] - 233s 18s/step\n",
      "0.3188168 0.65178573 1.0\n",
      "\n",
      " Epoch 2/50\n",
      "13/13 [==============================] - 230s 18s/step\n",
      "0.114726625 0.95238096 1.0\n",
      "\n",
      " Epoch 3/50\n",
      "13/13 [==============================] - 223s 17s/step\n",
      "0.0053823623 0.969697 1.0\n",
      "\n",
      " Epoch 4/50\n",
      "13/13 [==============================] - 212s 16s/step\n",
      "0.13882488 0.9809524 0.99038464\n",
      "\n",
      " Epoch 5/50\n",
      "13/13 [==============================] - 221s 17s/step\n",
      "0.027855847 1.0 1.0\n",
      "\n",
      " Epoch 6/50\n",
      "13/13 [==============================] - 215s 17s/step\n",
      "0.0001675985 1.0 1.0\n",
      "\n",
      " Epoch 7/50\n",
      "13/13 [==============================] - 239s 19s/step\n",
      "0.1004316 0.9907407 1.0\n",
      "\n",
      " Epoch 8/50\n",
      "13/13 [==============================] - 245s 19s/step\n",
      "0.0014648061 1.0 1.0\n",
      "\n",
      " Epoch 9/50\n",
      "13/13 [==============================] - 241s 19s/step\n",
      "0.00028033435 1.0 1.0\n",
      "\n",
      " Epoch 10/50\n",
      "13/13 [==============================] - 240s 18s/step\n",
      "0.0032058156 1.0 1.0\n",
      "\n",
      " Epoch 11/50\n",
      "13/13 [==============================] - 236s 18s/step\n",
      "0.016917037 1.0 1.0\n",
      "\n",
      " Epoch 12/50\n",
      "13/13 [==============================] - 251s 19s/step\n",
      "0.0025311275 1.0 1.0\n",
      "\n",
      " Epoch 13/50\n",
      "13/13 [==============================] - 241s 19s/step\n",
      "0.0018654984 1.0 1.0\n",
      "\n",
      " Epoch 14/50\n",
      "13/13 [==============================] - 238s 18s/step\n",
      "6.330131e-06 1.0 1.0\n",
      "\n",
      " Epoch 15/50\n",
      "13/13 [==============================] - 240s 18s/step\n",
      "0.00037064045 1.0 1.0\n",
      "\n",
      " Epoch 16/50\n",
      "13/13 [==============================] - 293s 23s/step\n",
      "9.472515e-05 1.0 1.0\n",
      "\n",
      " Epoch 17/50\n",
      "13/13 [==============================] - 310s 24s/step\n",
      "1.0188812e-05 1.0 1.0\n",
      "\n",
      " Epoch 18/50\n",
      "13/13 [==============================] - 291s 22s/step\n",
      "0.0004643537 1.0 1.0\n",
      "\n",
      " Epoch 19/50\n",
      "13/13 [==============================] - 292s 23s/step\n",
      "0.00022354697 1.0 1.0\n",
      "\n",
      " Epoch 20/50\n",
      "13/13 [==============================] - 293s 23s/step\n",
      "8.18573e-07 1.0 1.0\n",
      "\n",
      " Epoch 21/50\n",
      "13/13 [==============================] - 295s 23s/step\n",
      "4.5561424e-05 1.0 1.0\n",
      "\n",
      " Epoch 22/50\n",
      "13/13 [==============================] - 293s 22s/step\n",
      "6.403019e-05 1.0 1.0\n",
      "\n",
      " Epoch 23/50\n",
      "13/13 [==============================] - 288s 22s/step\n",
      "1.5894705e-06 1.0 1.0\n",
      "\n",
      " Epoch 24/50\n",
      "13/13 [==============================] - 288s 22s/step\n",
      "9.642623e-05 1.0 1.0\n",
      "\n",
      " Epoch 25/50\n",
      "13/13 [==============================] - 288s 22s/step\n",
      "0.00020380136 1.0 1.0\n",
      "\n",
      " Epoch 26/50\n",
      "13/13 [==============================] - 290s 22s/step\n",
      "6.906375e-06 1.0 1.0\n",
      "\n",
      " Epoch 27/50\n",
      "13/13 [==============================] - 288s 22s/step\n",
      "1.887643e-05 1.0 1.0\n",
      "\n",
      " Epoch 28/50\n",
      "13/13 [==============================] - 289s 22s/step\n",
      "2.22526e-06 1.0 1.0\n",
      "\n",
      " Epoch 29/50\n",
      "13/13 [==============================] - 288s 22s/step\n",
      "1.2318301e-07 1.0 1.0\n",
      "\n",
      " Epoch 30/50\n",
      "13/13 [==============================] - 290s 22s/step\n",
      "0.00021881126 1.0 1.0\n",
      "\n",
      " Epoch 31/50\n",
      "13/13 [==============================] - 288s 22s/step\n",
      "0.0002068857 1.0 1.0\n",
      "\n",
      " Epoch 32/50\n",
      "13/13 [==============================] - 290s 22s/step\n",
      "8.203796e-05 1.0 1.0\n",
      "\n",
      " Epoch 33/50\n",
      "13/13 [==============================] - 291s 22s/step\n",
      "4.6454395e-05 1.0 1.0\n",
      "\n",
      " Epoch 34/50\n",
      "13/13 [==============================] - 288s 22s/step\n",
      "5.5700715e-05 1.0 1.0\n",
      "\n",
      " Epoch 35/50\n",
      "13/13 [==============================] - 287s 22s/step\n",
      "0.00013060178 1.0 1.0\n",
      "\n",
      " Epoch 36/50\n",
      "13/13 [==============================] - 285s 22s/step\n",
      "7.324825e-05 1.0 1.0\n",
      "\n",
      " Epoch 37/50\n",
      "13/13 [==============================] - 287s 22s/step\n",
      "2.3702733e-05 1.0 1.0\n",
      "\n",
      " Epoch 38/50\n",
      "13/13 [==============================] - 305s 24s/step\n",
      "4.7652964e-05 1.0 1.0\n",
      "\n",
      " Epoch 39/50\n",
      "13/13 [==============================] - 287s 22s/step\n",
      "1.9338551e-05 1.0 1.0\n",
      "\n",
      " Epoch 40/50\n",
      "13/13 [==============================] - 289s 22s/step\n",
      "5.1642288e-05 1.0 1.0\n",
      "\n",
      " Epoch 41/50\n",
      "13/13 [==============================] - 286s 22s/step\n",
      "3.537083e-05 1.0 1.0\n",
      "\n",
      " Epoch 42/50\n",
      "13/13 [==============================] - 285s 22s/step\n",
      "0.00010162385 1.0 1.0\n",
      "\n",
      " Epoch 43/50\n",
      "13/13 [==============================] - 288s 22s/step\n",
      "3.938692e-05 1.0 1.0\n",
      "\n",
      " Epoch 44/50\n",
      "13/13 [==============================] - 288s 22s/step\n",
      "7.177099e-05 1.0 1.0\n",
      "\n",
      " Epoch 45/50\n",
      "13/13 [==============================] - 286s 22s/step\n",
      "0.0 1.0 1.0\n",
      "\n",
      " Epoch 46/50\n",
      "13/13 [==============================] - 292s 23s/step\n",
      "1.1404452e-06 1.0 1.0\n",
      "\n",
      " Epoch 47/50\n",
      "13/13 [==============================] - 287s 22s/step\n",
      "2.2610338e-06 1.0 1.0\n",
      "\n",
      " Epoch 48/50\n",
      "13/13 [==============================] - 286s 22s/step\n",
      "5.5631125e-07 1.0 1.0\n",
      "\n",
      " Epoch 49/50\n",
      "13/13 [==============================] - 285s 22s/step\n",
      "2.7693046e-05 1.0 1.0\n",
      "\n",
      " Epoch 50/50\n",
      "13/13 [==============================] - 288s 22s/step\n",
      "2.837207e-05 1.0 1.0\n"
     ]
    }
   ],
   "source": [
    "train(train_data, EPOCHS)"
   ]
  },
  {
   "cell_type": "markdown",
   "metadata": {
    "tags": []
   },
   "source": [
    "# 6. Avaliar modelo\n",
    "\n",
    "Aqui esta sendo realizado a avaliação do modelo, foram utilizados as metricas **Precision** e **Recall**\n",
    "* **Precision** -  Precisão é a proporção de classes positivas previstas corretamente para todos os itens previstos como positivos\n",
    "* **Recall** - é a proporção de classes positivas previstas corretamente para todos os itens que são realmente positivos\n",
    "\n",
    "Nesse tópico, foi realizada:\n",
    "* importação das métricas\n",
    "* previsões\n",
    "* Calculo das métricas\n",
    "* apresenta o resultado da visualização\n",
    "\n"
   ]
  },
  {
   "cell_type": "markdown",
   "metadata": {},
   "source": [
    "## 6.1 Import Métricas"
   ]
  },
  {
   "cell_type": "code",
   "execution_count": 171,
   "metadata": {},
   "outputs": [],
   "source": [
    "# Importr métricas para calcular Precision e Recall\n",
    "from tensorflow.keras.metrics import Precision, Recall"
   ]
  },
  {
   "cell_type": "markdown",
   "metadata": {},
   "source": [
    "## 6.2 Fazer previsões"
   ]
  },
  {
   "cell_type": "code",
   "execution_count": 172,
   "metadata": {},
   "outputs": [],
   "source": [
    "# Obtenha os dados de teste\n",
    "test_input, test_val, y_true = test_data.as_numpy_iterator().next()"
   ]
  },
  {
   "cell_type": "code",
   "execution_count": 173,
   "metadata": {
    "tags": []
   },
   "outputs": [],
   "source": [
    "y_hat = siamese_model.predict([test_input, test_val])"
   ]
  },
  {
   "cell_type": "code",
   "execution_count": 174,
   "metadata": {
    "tags": []
   },
   "outputs": [
    {
     "data": {
      "text/plain": [
       "[0, 0, 0, 1, 0, 1, 0, 0, 0, 1, 0, 0, 0, 1, 1, 1]"
      ]
     },
     "execution_count": 174,
     "metadata": {},
     "output_type": "execute_result"
    }
   ],
   "source": [
    "# Pós-processamento dos resultados\n",
    "[1 if prediction > 0.5 else 0 for prediction in y_hat ]"
   ]
  },
  {
   "cell_type": "code",
   "execution_count": 175,
   "metadata": {
    "tags": []
   },
   "outputs": [
    {
     "data": {
      "text/plain": [
       "array([0., 0., 0., 1., 0., 1., 0., 0., 0., 1., 0., 0., 0., 1., 1., 1.],\n",
       "      dtype=float32)"
      ]
     },
     "execution_count": 175,
     "metadata": {},
     "output_type": "execute_result"
    }
   ],
   "source": [
    "y_true"
   ]
  },
  {
   "cell_type": "markdown",
   "metadata": {},
   "source": [
    "## 6.3 Calcular Métricas"
   ]
  },
  {
   "cell_type": "code",
   "execution_count": 176,
   "metadata": {},
   "outputs": [
    {
     "data": {
      "text/plain": [
       "1.0"
      ]
     },
     "execution_count": 176,
     "metadata": {},
     "output_type": "execute_result"
    }
   ],
   "source": [
    "# Criando um objeto de métrica \n",
    "m = Recall()\n",
    "\n",
    "# Calculando o valor do recall\n",
    "m.update_state(y_true, y_hat)\n",
    "\n",
    "# Return Recall Result\n",
    "m.result().numpy()"
   ]
  },
  {
   "cell_type": "code",
   "execution_count": 177,
   "metadata": {},
   "outputs": [
    {
     "data": {
      "text/plain": [
       "1.0"
      ]
     },
     "execution_count": 177,
     "metadata": {},
     "output_type": "execute_result"
    }
   ],
   "source": [
    "# Criando um objeto de métrica\n",
    "m = Precision()\n",
    "\n",
    "# Calculando o valor do Precision\n",
    "m.update_state(y_true, y_hat)\n",
    "\n",
    "# Return Recall Result\n",
    "m.result().numpy()"
   ]
  },
  {
   "cell_type": "code",
   "execution_count": 178,
   "metadata": {},
   "outputs": [
    {
     "name": "stdout",
     "output_type": "stream",
     "text": [
      "1.0 1.0\n"
     ]
    }
   ],
   "source": [
    "r = Recall()\n",
    "p = Precision()\n",
    "\n",
    "for test_input, test_val, y_true in test_data.as_numpy_iterator():\n",
    "    yhat = siamese_model.predict([test_input, test_val])\n",
    "    r.update_state(y_true, yhat)\n",
    "    p.update_state(y_true,yhat) \n",
    "\n",
    "print(r.result().numpy(), p.result().numpy())"
   ]
  },
  {
   "cell_type": "markdown",
   "metadata": {},
   "source": [
    "## 6.4 Resultados da Visualização"
   ]
  },
  {
   "cell_type": "code",
   "execution_count": 179,
   "metadata": {},
   "outputs": [
    {
     "data": {
      "image/png": "[encoded data removed]",
      "text/plain": [
       "<Figure size 720x576 with 2 Axes>"
      ]
     },
     "metadata": {
      "needs_background": "light"
     },
     "output_type": "display_data"
    }
   ],
   "source": [
    "# Definindo o tamanho do gráfico\n",
    "plt.figure(figsize=(10,8))\n",
    "\n",
    "# Definindo a primeira imagem\n",
    "plt.subplot(1,2,1)\n",
    "plt.imshow(test_input[0])\n",
    "\n",
    "# Definindo a segunda imagem\n",
    "plt.subplot(1,2,2)\n",
    "plt.imshow(test_val[0])\n",
    "\n",
    "# Renders cleanly\n",
    "plt.show()"
   ]
  },
  {
   "cell_type": "markdown",
   "metadata": {},
   "source": [
    "# 7. Salvar o Modelo"
   ]
  },
  {
   "cell_type": "code",
   "execution_count": 181,
   "metadata": {},
   "outputs": [],
   "source": [
    "# Salvabdo os pesos\n",
    "siamese_model.save('siamesemodelv2.h5')"
   ]
  },
  {
   "cell_type": "code",
   "execution_count": 182,
   "metadata": {},
   "outputs": [
    {
     "data": {
      "text/plain": [
       "__main__.L1Dist"
      ]
     },
     "execution_count": 182,
     "metadata": {},
     "output_type": "execute_result"
    }
   ],
   "source": [
    "L1Dist"
   ]
  },
  {
   "cell_type": "code",
   "execution_count": 183,
   "metadata": {},
   "outputs": [
    {
     "name": "stdout",
     "output_type": "stream",
     "text": [
      "WARNING:tensorflow:No training configuration found in the save file, so the model was *not* compiled. Compile it manually.\n"
     ]
    }
   ],
   "source": [
    "# Recarregando o modelo\n",
    "siamese_model = tf.keras.models.load_model('siamesemodelv2.h5', \n",
    "                                   custom_objects={'L1Dist':L1Dist, 'BinaryCrossentropy':tf.losses.BinaryCrossentropy})"
   ]
  },
  {
   "cell_type": "code",
   "execution_count": 184,
   "metadata": {},
   "outputs": [
    {
     "data": {
      "text/plain": [
       "array([[8.5608243e-10],\n",
       "       [8.4871221e-11],\n",
       "       [6.6700569e-12],\n",
       "       [2.0537044e-10],\n",
       "       [3.7757106e-11],\n",
       "       [3.3738130e-11],\n",
       "       [9.9977964e-01],\n",
       "       [9.9999940e-01],\n",
       "       [1.0000000e+00]], dtype=float32)"
      ]
     },
     "execution_count": 184,
     "metadata": {},
     "output_type": "execute_result"
    }
   ],
   "source": [
    "# previsões com modelo recarregado\n",
    "siamese_model.predict([test_input, test_val])"
   ]
  },
  {
   "cell_type": "code",
   "execution_count": 185,
   "metadata": {},
   "outputs": [
    {
     "name": "stdout",
     "output_type": "stream",
     "text": [
      "Model: \"SiameseNetwork\"\n",
      "__________________________________________________________________________________________________\n",
      "Layer (type)                    Output Shape         Param #     Connected to                     \n",
      "==================================================================================================\n",
      "input_img (InputLayer)          [(None, 100, 100, 3) 0                                            \n",
      "__________________________________________________________________________________________________\n",
      "validation_img (InputLayer)     [(None, 100, 100, 3) 0                                            \n",
      "__________________________________________________________________________________________________\n",
      "embedding (Functional)          (None, 4096)         38960448    input_img[0][0]                  \n",
      "                                                                 validation_img[0][0]             \n",
      "__________________________________________________________________________________________________\n",
      "l1_dist_7 (L1Dist)              (None, 4096)         0           embedding[0][0]                  \n",
      "                                                                 embedding[1][0]                  \n",
      "__________________________________________________________________________________________________\n",
      "dense_7 (Dense)                 (None, 1)            4097        l1_dist_7[0][0]                  \n",
      "==================================================================================================\n",
      "Total params: 38,964,545\n",
      "Trainable params: 38,964,545\n",
      "Non-trainable params: 0\n",
      "__________________________________________________________________________________________________\n"
     ]
    }
   ],
   "source": [
    "# resumo do modelo\n",
    "siamese_model.summary()"
   ]
  },
  {
   "cell_type": "markdown",
   "metadata": {},
   "source": [
    "# 8. Teste em tempo real\n",
    "\n",
    "\n",
    "Nesse tópico esta sendo realizado a verificação em tempo real, onde é usado \n",
    "* a imagem da webcan como imagens de entrada **input_image** \n",
    "    * ao apertar v a imagen será salva na pasta **input_image**\n",
    "e sem sequida chama a função **verify** para realizar a verifcação baseado nas imagens que estão na pasta application_data\\verification_images"
   ]
  },
  {
   "cell_type": "markdown",
   "metadata": {},
   "source": [
    "## 8.1 Função de verificação"
   ]
  },
  {
   "cell_type": "code",
   "execution_count": 215,
   "metadata": {},
   "outputs": [
    {
     "data": {
      "text/plain": [
       "['00b2e8b6-6e07-11ed-bcbd-d09466ce65be - Copia (2).jpg',\n",
       " '00b2e8b6-6e07-11ed-bcbd-d09466ce65be - Copia - Copia.jpg',\n",
       " '01acae22-6e07-11ed-970e-d09466ce65be - Copia - Copia.jpg',\n",
       " '39ad0b65-6e07-11ed-afc7-d09466ce65be - Copia - Copia.jpg',\n",
       " '3c27fafe-6e07-11ed-b810-d09466ce65be.jpg',\n",
       " '473791d6-6e07-11ed-98ba-d09466ce65be.jpg',\n",
       " '47dc19f2-6e07-11ed-93d7-d09466ce65be - Copia.jpg',\n",
       " '47fd5f2b-6e07-11ed-b87c-d09466ce65be - Copia.jpg',\n",
       " '4e8c9034-6e07-11ed-b3a4-d09466ce65be - Copia.jpg',\n",
       " '526082a9-6e07-11ed-86bb-d09466ce65be.jpg',\n",
       " '56f0f797-6e07-11ed-85e9-d09466ce65be - Copia.jpg',\n",
       " '56f0f797-6e07-11ed-85e9-d09466ce65be.jpg',\n",
       " '5c0ee9a6-6e07-11ed-90bf-d09466ce65be.jpg',\n",
       " '66061e36-6e07-11ed-84fc-d09466ce65be.jpg',\n",
       " 'b15d9f7e-6e06-11ed-a117-d09466ce65be.jpg',\n",
       " 'b38965f3-6e06-11ed-a7c0-d09466ce65be.jpg',\n",
       " 'b44466ba-6e06-11ed-bde0-d09466ce65be.jpg',\n",
       " 'b5d480c0-6e06-11ed-8c3f-d09466ce65be.jpg',\n",
       " 'd4714f64-6e07-11ed-b703-d09466ce65be.jpg',\n",
       " 'd4b0aa4a-6e07-11ed-85c0-d09466ce65be.jpg',\n",
       " 'd4d27354-6e07-11ed-959f-d09466ce65be.jpg',\n",
       " 'd4d2d2a5-6e07-11ed-a44f-d09466ce65be.jpg',\n",
       " 'd4df0092-6e07-11ed-a3d7-d09466ce65be.jpg',\n",
       " 'd4ee7bc4-6e07-11ed-a0b6-d09466ce65be.jpg',\n",
       " 'd50018b4-6e07-11ed-afbb-d09466ce65be.jpg',\n",
       " 'd5398c4c-6e07-11ed-893a-d09466ce65be.jpg',\n",
       " 'd543f233-6e07-11ed-93d2-d09466ce65be.jpg',\n",
       " 'd56259f5-6e07-11ed-965d-d09466ce65be - Copia.jpg',\n",
       " 'd57147b2-6e07-11ed-b232-d09466ce65be.jpg',\n",
       " 'd5ef86c1-6e07-11ed-9c26-d09466ce65be.jpg',\n",
       " 'd5fcb7ad-6e07-11ed-bc17-d09466ce65be.jpg',\n",
       " 'd63562c0-6e07-11ed-bd15-d09466ce65be.jpg',\n",
       " 'd65b3d4e-6e07-11ed-9358-d09466ce65be.jpg',\n",
       " 'd65b8b73-6e07-11ed-98f6-d09466ce65be.jpg',\n",
       " 'd7a88942-6e07-11ed-acb7-d09466ce65be.jpg',\n",
       " 'd7c0ba10-6e07-11ed-9908-d09466ce65be.jpg',\n",
       " 'd7c20396-6e07-11ed-8bab-d09466ce65be.jpg',\n",
       " 'd7e4bf59-6e07-11ed-bebe-d09466ce65be.jpg',\n",
       " 'd82af818-6e07-11ed-a401-d09466ce65be.jpg',\n",
       " 'd82b4994-6e07-11ed-87d0-d09466ce65be.jpg',\n",
       " 'd845cee4-6e07-11ed-86b8-d09466ce65be.jpg',\n",
       " 'd846dd39-6e07-11ed-8e18-d09466ce65be.jpg',\n",
       " 'eb215f3f-6e06-11ed-9643-d09466ce65be - Copia.jpg',\n",
       " 'eb215f3f-6e06-11ed-9643-d09466ce65be.jpg',\n",
       " 'ecedb36a-6e06-11ed-bfa2-d09466ce65be.jpg',\n",
       " 'f22861c5-6e06-11ed-b6f1-d09466ce65be - Copia.jpg',\n",
       " 'f73d0555-6e06-11ed-b842-d09466ce65be.jpg',\n",
       " 'f8df9f53-6e06-11ed-b74f-d09466ce65be - Copia.jpg',\n",
       " 'f8df9f53-6e06-11ed-b74f-d09466ce65be.jpg',\n",
       " 'fe0cc444-6e06-11ed-a568-d09466ce65be - Copia.jpg']"
      ]
     },
     "execution_count": 215,
     "metadata": {},
     "output_type": "execute_result"
    }
   ],
   "source": [
    "os.listdir(os.path.join('application_data', 'verification_images'))"
   ]
  },
  {
   "cell_type": "code",
   "execution_count": 216,
   "metadata": {},
   "outputs": [
    {
     "data": {
      "text/plain": [
       "'application_data\\\\input_image\\\\input_image.jpg'"
      ]
     },
     "execution_count": 216,
     "metadata": {},
     "output_type": "execute_result"
    }
   ],
   "source": [
    "os.path.join('application_data', 'input_image', 'input_image.jpg')"
   ]
  },
  {
   "cell_type": "code",
   "execution_count": 217,
   "metadata": {},
   "outputs": [
    {
     "name": "stdout",
     "output_type": "stream",
     "text": [
      "application_data\\verification_images\\00b2e8b6-6e07-11ed-bcbd-d09466ce65be - Copia (2).jpg\n",
      "application_data\\verification_images\\00b2e8b6-6e07-11ed-bcbd-d09466ce65be - Copia - Copia.jpg\n",
      "application_data\\verification_images\\01acae22-6e07-11ed-970e-d09466ce65be - Copia - Copia.jpg\n",
      "application_data\\verification_images\\39ad0b65-6e07-11ed-afc7-d09466ce65be - Copia - Copia.jpg\n",
      "application_data\\verification_images\\3c27fafe-6e07-11ed-b810-d09466ce65be.jpg\n",
      "application_data\\verification_images\\473791d6-6e07-11ed-98ba-d09466ce65be.jpg\n",
      "application_data\\verification_images\\47dc19f2-6e07-11ed-93d7-d09466ce65be - Copia.jpg\n",
      "application_data\\verification_images\\47fd5f2b-6e07-11ed-b87c-d09466ce65be - Copia.jpg\n",
      "application_data\\verification_images\\4e8c9034-6e07-11ed-b3a4-d09466ce65be - Copia.jpg\n",
      "application_data\\verification_images\\526082a9-6e07-11ed-86bb-d09466ce65be.jpg\n",
      "application_data\\verification_images\\56f0f797-6e07-11ed-85e9-d09466ce65be - Copia.jpg\n",
      "application_data\\verification_images\\56f0f797-6e07-11ed-85e9-d09466ce65be.jpg\n",
      "application_data\\verification_images\\5c0ee9a6-6e07-11ed-90bf-d09466ce65be.jpg\n",
      "application_data\\verification_images\\66061e36-6e07-11ed-84fc-d09466ce65be.jpg\n",
      "application_data\\verification_images\\b15d9f7e-6e06-11ed-a117-d09466ce65be.jpg\n",
      "application_data\\verification_images\\b38965f3-6e06-11ed-a7c0-d09466ce65be.jpg\n",
      "application_data\\verification_images\\b44466ba-6e06-11ed-bde0-d09466ce65be.jpg\n",
      "application_data\\verification_images\\b5d480c0-6e06-11ed-8c3f-d09466ce65be.jpg\n",
      "application_data\\verification_images\\d4714f64-6e07-11ed-b703-d09466ce65be.jpg\n",
      "application_data\\verification_images\\d4b0aa4a-6e07-11ed-85c0-d09466ce65be.jpg\n",
      "application_data\\verification_images\\d4d27354-6e07-11ed-959f-d09466ce65be.jpg\n",
      "application_data\\verification_images\\d4d2d2a5-6e07-11ed-a44f-d09466ce65be.jpg\n",
      "application_data\\verification_images\\d4df0092-6e07-11ed-a3d7-d09466ce65be.jpg\n",
      "application_data\\verification_images\\d4ee7bc4-6e07-11ed-a0b6-d09466ce65be.jpg\n",
      "application_data\\verification_images\\d50018b4-6e07-11ed-afbb-d09466ce65be.jpg\n",
      "application_data\\verification_images\\d5398c4c-6e07-11ed-893a-d09466ce65be.jpg\n",
      "application_data\\verification_images\\d543f233-6e07-11ed-93d2-d09466ce65be.jpg\n",
      "application_data\\verification_images\\d56259f5-6e07-11ed-965d-d09466ce65be - Copia.jpg\n",
      "application_data\\verification_images\\d57147b2-6e07-11ed-b232-d09466ce65be.jpg\n",
      "application_data\\verification_images\\d5ef86c1-6e07-11ed-9c26-d09466ce65be.jpg\n",
      "application_data\\verification_images\\d5fcb7ad-6e07-11ed-bc17-d09466ce65be.jpg\n",
      "application_data\\verification_images\\d63562c0-6e07-11ed-bd15-d09466ce65be.jpg\n",
      "application_data\\verification_images\\d65b3d4e-6e07-11ed-9358-d09466ce65be.jpg\n",
      "application_data\\verification_images\\d65b8b73-6e07-11ed-98f6-d09466ce65be.jpg\n",
      "application_data\\verification_images\\d7a88942-6e07-11ed-acb7-d09466ce65be.jpg\n",
      "application_data\\verification_images\\d7c0ba10-6e07-11ed-9908-d09466ce65be.jpg\n",
      "application_data\\verification_images\\d7c20396-6e07-11ed-8bab-d09466ce65be.jpg\n",
      "application_data\\verification_images\\d7e4bf59-6e07-11ed-bebe-d09466ce65be.jpg\n",
      "application_data\\verification_images\\d82af818-6e07-11ed-a401-d09466ce65be.jpg\n",
      "application_data\\verification_images\\d82b4994-6e07-11ed-87d0-d09466ce65be.jpg\n",
      "application_data\\verification_images\\d845cee4-6e07-11ed-86b8-d09466ce65be.jpg\n",
      "application_data\\verification_images\\d846dd39-6e07-11ed-8e18-d09466ce65be.jpg\n",
      "application_data\\verification_images\\eb215f3f-6e06-11ed-9643-d09466ce65be - Copia.jpg\n",
      "application_data\\verification_images\\eb215f3f-6e06-11ed-9643-d09466ce65be.jpg\n",
      "application_data\\verification_images\\ecedb36a-6e06-11ed-bfa2-d09466ce65be.jpg\n",
      "application_data\\verification_images\\f22861c5-6e06-11ed-b6f1-d09466ce65be - Copia.jpg\n",
      "application_data\\verification_images\\f73d0555-6e06-11ed-b842-d09466ce65be.jpg\n",
      "application_data\\verification_images\\f8df9f53-6e06-11ed-b74f-d09466ce65be - Copia.jpg\n",
      "application_data\\verification_images\\f8df9f53-6e06-11ed-b74f-d09466ce65be.jpg\n",
      "application_data\\verification_images\\fe0cc444-6e06-11ed-a568-d09466ce65be - Copia.jpg\n"
     ]
    }
   ],
   "source": [
    "for image in os.listdir(os.path.join('application_data', 'verification_images')):\n",
    "    validation_img = os.path.join('application_data', 'verification_images', image)\n",
    "    print(validation_img)"
   ]
  },
  {
   "cell_type": "code",
   "execution_count": 218,
   "metadata": {},
   "outputs": [],
   "source": [
    "def verify(model, detection_threshold, verification_threshold):\n",
    "    # Criar matriz de resultados\n",
    "    results = []\n",
    "    for image in os.listdir(os.path.join('application_data', 'verification_images')):\n",
    "        input_img = preprocess(os.path.join('application_data', 'input_image', 'input_image.jpg'))\n",
    "        validation_img = preprocess(os.path.join('application_data', 'verification_images', image))\n",
    "        \n",
    "        # Fazer previsões\n",
    "        result = model.predict(list(np.expand_dims([input_img, validation_img], axis=1)))\n",
    "        results.append(result)\n",
    "    \n",
    "    # Detection Threshold: métrica acima da qual uma previsão é considerada positiva\n",
    "    detection = np.sum(np.array(results) > detection_threshold)\n",
    "    \n",
    "    # Verification Proporção de previsões positivas/total de amostras positivas\n",
    "    verification = detection / len(os.listdir(os.path.join('application_data', 'verification_images'))) \n",
    "    verified = verification > verification_threshold\n",
    "   \n",
    "\n",
    "    \"\"\"\n",
    "    R Returns - Rertorna o results que é os resultados da verificação da imagens de entrada com as imagens \n",
    "    contidas na pasta em application_data\\verification_images e a verified\n",
    "    \n",
    "    verified: True se a foto corresponder e False caso foto não corresponda\n",
    "    \"\"\"\n",
    "   \n",
    "    \n",
    "    return results, verified"
   ]
  },
  {
   "cell_type": "markdown",
   "metadata": {},
   "source": [
    "## 8.2 Verificação em tempo real do OpenCV"
   ]
  },
  {
   "cell_type": "code",
   "execution_count": 235,
   "metadata": {},
   "outputs": [
    {
     "name": "stdout",
     "output_type": "stream",
     "text": [
      "True\n",
      "True\n",
      "False\n"
     ]
    }
   ],
   "source": [
    "cap = cv2.VideoCapture(0)\n",
    "while cap.isOpened():\n",
    "    ret, frame = cap.read()\n",
    "    frame = frame[120:120+250,200:200+250, :]\n",
    "    \n",
    "    cv2.imshow('Verification', frame)\n",
    "    \n",
    "    # Verification trigger\n",
    "    if cv2.waitKey(10) & 0xFF == ord('v'):\n",
    "        # Salve a imagem de entrada na pasta application_data/input_image \n",
    "        cv2.imwrite(os.path.join('application_data', 'input_image', 'input_image.jpg'), frame)\n",
    "        # Executar verificação\n",
    "        results, verified = verify(siamese_model, 0.5, 0.5)\n",
    "        print(verified)\n",
    "    \n",
    "    if cv2.waitKey(10) & 0xFF == ord('q'):\n",
    "        break\n",
    "cap.release()\n",
    "cv2.destroyAllWindows()"
   ]
  },
  {
   "cell_type": "code",
   "execution_count": 226,
   "metadata": {},
   "outputs": [
    {
     "data": {
      "text/plain": [
       "14"
      ]
     },
     "execution_count": 226,
     "metadata": {},
     "output_type": "execute_result"
    }
   ],
   "source": [
    "np.sum(np.squeeze(results) > 0.9)"
   ]
  },
  {
   "cell_type": "code",
   "execution_count": 227,
   "metadata": {},
   "outputs": [
    {
     "data": {
      "text/plain": [
       "[array([[0.9985056]], dtype=float32),\n",
       " array([[0.9985056]], dtype=float32),\n",
       " array([[0.00642663]], dtype=float32),\n",
       " array([[7.903098e-06]], dtype=float32),\n",
       " array([[1.3578905e-05]], dtype=float32),\n",
       " array([[0.00031605]], dtype=float32),\n",
       " array([[0.002718]], dtype=float32),\n",
       " array([[0.00303003]], dtype=float32),\n",
       " array([[0.18011454]], dtype=float32),\n",
       " array([[0.02104488]], dtype=float32),\n",
       " array([[5.2341957e-06]], dtype=float32),\n",
       " array([[5.2341957e-06]], dtype=float32),\n",
       " array([[5.5950175e-05]], dtype=float32),\n",
       " array([[3.9975224e-05]], dtype=float32),\n",
       " array([[0.32143456]], dtype=float32),\n",
       " array([[0.02331591]], dtype=float32),\n",
       " array([[0.9616779]], dtype=float32),\n",
       " array([[0.24936622]], dtype=float32),\n",
       " array([[0.9997822]], dtype=float32),\n",
       " array([[0.00056672]], dtype=float32),\n",
       " array([[0.01006079]], dtype=float32),\n",
       " array([[0.00020933]], dtype=float32),\n",
       " array([[0.99952555]], dtype=float32),\n",
       " array([[9.072754e-05]], dtype=float32),\n",
       " array([[0.18682826]], dtype=float32),\n",
       " array([[0.9999857]], dtype=float32),\n",
       " array([[0.9984143]], dtype=float32),\n",
       " array([[0.78178215]], dtype=float32),\n",
       " array([[3.3484175e-05]], dtype=float32),\n",
       " array([[0.9989519]], dtype=float32),\n",
       " array([[0.91297567]], dtype=float32),\n",
       " array([[0.00050148]], dtype=float32),\n",
       " array([[0.7518937]], dtype=float32),\n",
       " array([[0.98413754]], dtype=float32),\n",
       " array([[0.7131926]], dtype=float32),\n",
       " array([[0.13747534]], dtype=float32),\n",
       " array([[0.9985143]], dtype=float32),\n",
       " array([[0.999992]], dtype=float32),\n",
       " array([[0.73662734]], dtype=float32),\n",
       " array([[0.86406577]], dtype=float32),\n",
       " array([[0.00316387]], dtype=float32),\n",
       " array([[0.99277365]], dtype=float32),\n",
       " array([[0.47472468]], dtype=float32),\n",
       " array([[0.47472468]], dtype=float32),\n",
       " array([[0.94131243]], dtype=float32),\n",
       " array([[0.00025734]], dtype=float32),\n",
       " array([[0.03338444]], dtype=float32),\n",
       " array([[0.04894787]], dtype=float32),\n",
       " array([[0.04894787]], dtype=float32),\n",
       " array([[0.00080657]], dtype=float32)]"
      ]
     },
     "execution_count": 227,
     "metadata": {},
     "output_type": "execute_result"
    }
   ],
   "source": [
    "results"
   ]
  }
 ],
 "metadata": {
  "kernelspec": {
   "display_name": "Python 3",
   "language": "python",
   "name": "python3"
  },
  "language_info": {
   "codemirror_mode": {
    "name": "ipython",
    "version": 3
   },
   "file_extension": ".py",
   "mimetype": "text/x-python",
   "name": "python",
   "nbconvert_exporter": "python",
   "pygments_lexer": "ipython3",
   "version": "3.8.8"
  }
 },
 "nbformat": 4,
 "nbformat_minor": 4
}
